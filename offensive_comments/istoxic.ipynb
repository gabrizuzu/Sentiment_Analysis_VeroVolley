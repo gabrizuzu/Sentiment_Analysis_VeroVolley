{
 "cells": [
  {
   "cell_type": "code",
   "execution_count": 20,
   "metadata": {},
   "outputs": [],
   "source": [
    "import json\n",
    "\n",
    "# Read the JSON file\n",
    "with open('sentiment_output.json') as file:\n",
    "    data = json.load(file)\n",
    "\n"
   ]
  },
  {
   "cell_type": "code",
   "execution_count": 28,
   "metadata": {},
   "outputs": [],
   "source": [
    "# Iterate over the comments\n",
    "for item in data:\n",
    "    for comment in item['comments']:\n",
    "        if 'toxicity' in comment and comment['toxicity'] + comment['severe_toxicity'] + comment['insult'] + comment['identity_attack'] > 1.5:\n",
    "            comment['isToxic'] = True\n",
    "            \n",
    "\n",
    "# Write the updated JSON back to the file\n",
    "with open('sentiment_output.json', 'w') as file:\n",
    "    json.dump(data, file, indent=4)\n"
   ]
  },
  {
   "cell_type": "code",
   "execution_count": 27,
   "metadata": {},
   "outputs": [],
   "source": [
    "# Iterate over the comments\n",
    "for item in data:\n",
    "    for comment in item['comments']:\n",
    "        if 'isToxic' in comment and comment['isToxic'] == True:\n",
    "            comment.pop('isToxic', None)\n",
    "            \n",
    "\n",
    "# Write the updated JSON back to the file\n",
    "with open('sentiment_output.json', 'w') as file:\n",
    "    json.dump(data, file, indent=4)"
   ]
  }
 ],
 "metadata": {
  "kernelspec": {
   "display_name": "Python 3",
   "language": "python",
   "name": "python3"
  },
  "language_info": {
   "codemirror_mode": {
    "name": "ipython",
    "version": 3
   },
   "file_extension": ".py",
   "mimetype": "text/x-python",
   "name": "python",
   "nbconvert_exporter": "python",
   "pygments_lexer": "ipython3",
   "version": "3.9.7"
  }
 },
 "nbformat": 4,
 "nbformat_minor": 2
}
