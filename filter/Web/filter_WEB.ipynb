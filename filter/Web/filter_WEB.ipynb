{
 "cells": [
  {
   "cell_type": "code",
   "execution_count": 17,
   "metadata": {},
   "outputs": [],
   "source": [
    "import json\n",
    "\n",
    "keywords = [\"monza\", \"egonu\", \"verovolley\"]  # Inserisci le tue parole chiave qui\n",
    "\n",
    "def keyword_in_text(item):\n",
    "    caption_text = item['caption_text'].lower()\n",
    "    content = item['content'].lower()\n",
    "    return any(keyword.lower() in caption_text or keyword.lower() in content for keyword in keywords)\n",
    "\n",
    "# Leggi i dati dal file JSON\n",
    "with open('example.json', 'r') as f:\n",
    "    data = json.load(f)\n",
    "\n"
   ]
  },
  {
   "cell_type": "code",
   "execution_count": 18,
   "metadata": {},
   "outputs": [],
   "source": [
    "for item in data:\n",
    "    item['caption_text'] = item.pop('title')\n",
    "\n",
    "filtered_data = list(filter(keyword_in_text, data))\n"
   ]
  },
  {
   "cell_type": "code",
   "execution_count": 19,
   "metadata": {},
   "outputs": [],
   "source": [
    "with open('output.json', 'w') as f:\n",
    "    json.dump(filtered_data, f, indent=4)"
   ]
  },
  {
   "cell_type": "code",
   "execution_count": null,
   "metadata": {},
   "outputs": [],
   "source": []
  }
 ],
 "metadata": {
  "kernelspec": {
   "display_name": "Python 3",
   "language": "python",
   "name": "python3"
  },
  "language_info": {
   "codemirror_mode": {
    "name": "ipython",
    "version": 3
   },
   "file_extension": ".py",
   "mimetype": "text/x-python",
   "name": "python",
   "nbconvert_exporter": "python",
   "pygments_lexer": "ipython3",
   "version": "3.9.7"
  }
 },
 "nbformat": 4,
 "nbformat_minor": 2
}
