{
 "cells": [
  {
   "cell_type": "code",
   "execution_count": 10,
   "metadata": {},
   "outputs": [],
   "source": [
    "import json\n",
    "import re\n",
    "\n",
    "keywords = [\n",
    "\"monza\", \n",
    "\"egonu\", \n",
    "\"verovolley\",\n",
    "\"orro\",\n",
    "\"danesi\",\n",
    "\"larson\",\n",
    "\"cazaute\"\n",
    "\"malual\",\n",
    "\"heyrman\",\n",
    "\"folie\",\n",
    "\"prandi\",\n",
    "\"pusic\",\n",
    "\"rettke\",\n",
    "\"bajema\",\n",
    "\"sylla\",\n",
    "\"daalderop\",\n",
    "\"candi\",\n",
    "\"castillo\",\n",
    "\"stysiak\",\n",
    "\"allard\",\n",
    "\"camera\",\n",
    "\"parrocchiale\",\n",
    "\"begic\",\n",
    "\"thompson\",\n",
    "\"stevanovic\",\n",
    "\"negretti\",\n",
    "\"davyskiba\",\n",
    "\"candi\",\n",
    "\"lazovic\",\n",
    "\"boldini\",\n",
    "\"gennari\",\n",
    "\"arena di monza\",\n",
    "\"allianz cloud\",\n",
    "\"paola egonu\",\n",
    "\"vero volley\"\n",
    "\"allianz milano\",\n",
    "\"allianz\"\n",
    "]  # Inserisci le tue parole chiave qui\n",
    "\n",
    "\n",
    "def keyword_in_text(data):\n",
    "    items_with_keywords = []\n",
    "    for item in data:\n",
    "        caption_text = item['caption_text'].lower()\n",
    "        content = item['content'].lower()\n",
    "        item_keywords = []\n",
    "        for keyword in keywords:\n",
    "            pattern = r'\\b' + re.escape(keyword.lower()) + r'\\b'\n",
    "            if re.search(pattern, caption_text) or re.search(pattern, content):\n",
    "                item_keywords.append(keyword)\n",
    "        if item_keywords:\n",
    "            item['keywords'] = item_keywords  # aggiungi le keywords al post\n",
    "            items_with_keywords.append(item)\n",
    "    return items_with_keywords\n",
    "\n",
    "# Leggi i dati dal file JSON\n",
    "with open('example.json', 'r') as f:\n",
    "    data = json.load(f)"
   ]
  },
  {
   "cell_type": "code",
   "execution_count": 11,
   "metadata": {},
   "outputs": [],
   "source": [
    "for item in data:\n",
    "    item['caption_text'] = item.pop('title')\n",
    "\n",
    "filtered_data = keyword_in_text(data)\n"
   ]
  },
  {
   "cell_type": "code",
   "execution_count": 12,
   "metadata": {},
   "outputs": [],
   "source": [
    "with open('output.json', 'w') as f:\n",
    "    json.dump(filtered_data, f, indent=4)"
   ]
  },
  {
   "cell_type": "code",
   "execution_count": null,
   "metadata": {},
   "outputs": [],
   "source": []
  }
 ],
 "metadata": {
  "kernelspec": {
   "display_name": "Python 3",
   "language": "python",
   "name": "python3"
  },
  "language_info": {
   "codemirror_mode": {
    "name": "ipython",
    "version": 3
   },
   "file_extension": ".py",
   "mimetype": "text/x-python",
   "name": "python",
   "nbconvert_exporter": "python",
   "pygments_lexer": "ipython3",
   "version": "3.9.7"
  }
 },
 "nbformat": 4,
 "nbformat_minor": 2
}
