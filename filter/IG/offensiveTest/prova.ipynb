{
 "cells": [
  {
   "cell_type": "code",
   "execution_count": 7,
   "metadata": {},
   "outputs": [],
   "source": [
    "import json\n",
    "\n",
    "with open('/Users/simon/Repos/VeroVolley-Group-2/official_statistics/facebook/verovolley/output_fb_verovolley.json', encoding='utf-8') as f:\n",
    "    data = json.load(f)"
   ]
  },
  {
   "cell_type": "code",
   "execution_count": 6,
   "metadata": {},
   "outputs": [],
   "source": [
    "keywords = ['offensive', 'inappropriate', 'hate']\n",
    "\n",
    "for item in data:\n",
    "    comments = item.get('comments', [])\n",
    "    for comment in comments:\n",
    "        if comment.get('sentiment') == 'negative':\n",
    "            item['offensive'] = 0\n",
    "        for comment in item['comments']:\n",
    "            for keyword in keywords:\n",
    "                if keyword in comment['body']:\n",
    "                    offensive = 1\n",
    "                    break\n",
    "    item['offensive'] = offensive\n",
    "        "
   ]
  }
 ],
 "metadata": {
  "kernelspec": {
   "display_name": "Python 3",
   "language": "python",
   "name": "python3"
  },
  "language_info": {
   "codemirror_mode": {
    "name": "ipython",
    "version": 3
   },
   "file_extension": ".py",
   "mimetype": "text/x-python",
   "name": "python",
   "nbconvert_exporter": "python",
   "pygments_lexer": "ipython3",
   "version": "3.12.0"
  }
 },
 "nbformat": 4,
 "nbformat_minor": 2
}
