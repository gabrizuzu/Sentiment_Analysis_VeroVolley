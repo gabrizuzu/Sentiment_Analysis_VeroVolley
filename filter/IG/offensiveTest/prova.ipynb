{
 "cells": [
  {
   "cell_type": "code",
   "execution_count": 3,
   "metadata": {},
   "outputs": [],
   "source": [
    "import json\n",
    "\n",
    "with open('/Users/gabrieleshu/VeroVolley/VeroVolley-Group-2-2/filter/IG/model_output/sentiment_output.json', encoding='utf-8') as f:\n",
    "    data = json.load(f)"
   ]
  },
  {
   "cell_type": "code",
   "execution_count": 4,
   "metadata": {},
   "outputs": [
    {
     "name": "stdout",
     "output_type": "stream",
     "text": [
      "Sentiment negative:  794\n"
     ]
    }
   ],
   "source": [
    "count_neg = 0\n",
    "\n",
    "for item in data:\n",
    "    comments = item.get('comments', [])\n",
    "    for comment in comments:\n",
    "        if comment.get('sentiment') == 'negative':\n",
    "            count_neg += 1\n",
    "            \n",
    "print('Sentiment negative: ', count_neg)"
   ]
  },
  {
   "cell_type": "code",
   "execution_count": 6,
   "metadata": {},
   "outputs": [],
   "source": [
    "for item in data:\n",
    "    comments = item.get('comments', [])\n",
    "    for comment in comments:\n",
    "        if comment.get('sentiment') == 'negative':\n",
    "            body = comment.get('body')\n",
    "            \n"
   ]
  },
  {
   "cell_type": "code",
   "execution_count": 8,
   "metadata": {},
   "outputs": [
    {
     "name": "stdout",
     "output_type": "stream",
     "text": [
      "['merd']\n",
      "{'text': 'Siete delle merde, ha colpito il libero non Mazzanti !! Vi piace creare il caso !! Poi ha chiesto a Mazzanti come andava ma voi lo avete tagliato !! Merdacce', 'username': 'luca.montanaro.946517', 'created_at_utc': '2024-01-08 00:05:18+00:00', 'like_count': 10, 'sentiment': 'negative'}\n",
      "['hate']\n",
      "{'text': '@justin.pricefield in ogni caso alzare la mano non le sarebbe costata fatica...vedendo la sua espressione mentre andava in battuta, si vedeva che la cosa le era piaciuta assai. Ah...non sono una sua hater...anzi però questo gesto non mi è piaciuto.', 'username': 'albarosabicelli', 'created_at_utc': '2024-01-07 23:44:09+00:00', 'like_count': 1, 'sentiment': 'negative'}\n",
      "['bitch']\n",
      "{'text': '@reikenx they put up a team effort post and you’re still bitching, get a life', 'username': 'black_radishes', 'created_at_utc': '2024-04-15 17:39:31+00:00', 'like_count': 30, 'sentiment': 'negative'}\n",
      "['hate']\n",
      "{'text': '@litaci_merci ran hater😂', 'username': 'chim_chim_jeki', 'created_at_utc': '2024-04-16 09:44:12+00:00', 'like_count': 1, 'sentiment': 'negative'}\n",
      "['merd']\n",
      "{'text': '@mattia_zan85 sisi, continua continua tanto hai già dimostrato lo scolo di fogna che sei, sai proprio parlare solo questa lingua, non sai argomentare nulla, solo insultare, anzi manco quello visto che in testa hai la merda', 'username': 'notsolucky78', 'created_at_utc': '2023-02-10 13:10:03+00:00', 'like_count': 2, 'sentiment': 'negative'}\n",
      "['merd']\n",
      "{'text': '@mattia_zan85 ma inculati tu madre pezzo di merda ignorante. Solo questa lingua sai parlare tu, per questo attacchi il ragionatore. Il ragionamento non sai contestarlo perché mezzo uomo, mezza tacca, pisciazza', 'username': 'notsolucky78', 'created_at_utc': '2023-02-10 12:52:29+00:00', 'like_count': 2, 'sentiment': 'negative'}\n",
      "['negr']\n",
      "{'text': '@negrettss non si è fatta trovare pronta...ha proprio cambiato la partita. Basta guardare le percentuali di ricezione e attacco prima e dopo il suo ingresso in campo.', 'username': 'ildocdigi', 'created_at_utc': '2022-04-28 10:17:39+00:00', 'like_count': 4, 'sentiment': 'negative'}\n",
      "['coglio']\n",
      "{'text': \"@robertofiorili comunque la densità dell'Europa è 73 abitanti per chilometro quadrato, quella dell'Italia è 200. Già, ma noi ovviamente dobbiamo fare lo ius soli. Più coglioni di voi non ce n'è\", 'username': 'robertofiorili', 'created_at_utc': '2024-05-01 23:54:14+00:00', 'like_count': 0, 'sentiment': 'negative'}\n",
      "['immigrat', 'coglio']\n",
      "{'text': '@gio711001 Coglione, lo ius soli non distingue tra immigrati e turisti. O non distinguerebbe. Quindi sei tu che sei nato coglione come è ovvio a tutti  e non sai  di cosa si parla, minchione', 'username': 'robertofiorili', 'created_at_utc': '2024-04-30 22:24:29+00:00', 'like_count': 0, 'sentiment': 'negative'}\n",
      "['merd']\n",
      "{'text': '@worldofbeauty575 Che figura di merda 😂Vai a letto', 'username': 'gio.rgio_royaume', 'created_at_utc': '2024-04-25 22:35:56+00:00', 'like_count': 0, 'sentiment': 'negative'}\n",
      "['african']\n",
      "{'text': '@jason_pozzato81 teso gli italiani di cui parli tu nella percentuale maggiore porteranno un DNA nordafricano o medio-orientale viste le guerre e le invasioni che ci sono sempre state nella penisola italica. Leggilo un libro mi raccomando 🤦🏼\\u200d♀️', 'username': 'worldofbeauty575', 'created_at_utc': '2024-04-25 21:09:37+00:00', 'like_count': 0, 'sentiment': 'negative'}\n",
      "['puttan']\n",
      "{'text': \"L'Italia non può dare la cittadinanza a tutti., dato che è un paese fortemente assistenzialista. Quindi non può dare la cittadinanza semplicemente ai figli di chi viene a partorire qui. Gli Stati Uniti sono gli unici che hanno lo ius soli puro (e ovviamente adesso lo stanno mettendo in discussione) e lo hanno messo perché erano spopolati, avevano bisogno di persone e cittadini, e soprattutto non sono un paese assistenzialista che regala soldi a tutti; lì la gente deve darsi da fare per poter vivere. Punto. Il discorso è chiuso da tempo, in Italia questa puttanata dello ius soli non ci sarà mai. Forse tra qualche decina d'anni quando sarà fortemente spopolata non certo ora.\", 'username': 'robertofiorili', 'created_at_utc': '2024-04-24 14:08:50+00:00', 'like_count': 0, 'sentiment': 'negative'}\n",
      "['schif']\n",
      "{'text': \"Della serie se fa' comodo e sono bravi gli diamo la  cittadinanza  e la maglia ,sennò  no !........che schifo !\", 'username': 'annaritasans67', 'created_at_utc': '2024-04-24 06:54:21+00:00', 'like_count': 0, 'sentiment': 'negative'}\n",
      "['african']\n",
      "{'text': 'Sembra quasi ci si \"vergogni\" ad essere africano o avere il passaporto di un paese di quel continente.', 'username': 'enrico.minollo', 'created_at_utc': '2024-04-22 14:05:49+00:00', 'like_count': 0, 'sentiment': 'negative'}\n",
      "['stronz']\n",
      "{'text': '@rinoraf ma tu sei l’ottusità fatta persona, ma se lei é nata in Italia, ci vive ci va a scuola e ci lavora perché non dovrebbe avere la cittadinanza italiana? Ma che stai dicendo, che esempio del cavolo scrivi. Ma é incredibile a volte leggere queste stronzate.', 'username': 'antoruby2000', 'created_at_utc': '2024-04-22 08:32:03+00:00', 'like_count': 0, 'sentiment': 'negative'}\n",
      "['immigrat']\n",
      "{'text': 'Poi è arrivato Valditara ed ha messo il tetto agli immigrati nelle scuole...boom. un ministro da medioevo', 'username': 'ferrarma', 'created_at_utc': '2024-04-22 06:51:25+00:00', 'like_count': 18, 'sentiment': 'negative'}\n",
      "['merd']\n",
      "{'text': 'Bella figura di merda! Grazie mille!', 'username': 'mattia_strummer_jones', 'created_at_utc': '2024-04-10 22:47:28+00:00', 'like_count': 0, 'sentiment': 'negative'}\n",
      "['merd']\n",
      "{'text': '@dnzoztrk_08 siete delle merde tanto perdete in finale pagliacci 🤡', 'username': 'vincioooooo', 'created_at_utc': '2023-09-01 21:39:45+00:00', 'like_count': 3, 'sentiment': 'negative'}\n",
      "['troia']\n",
      "{'text': 'Porca troia.....😮', 'username': 'guido.p.pedrini', 'created_at_utc': '2023-07-06 19:04:38+00:00', 'like_count': 0, 'sentiment': 'negative'}\n",
      "['coglio']\n",
      "{'text': '@tucekorkut ma avete proprio rotto i coglioni', 'username': '_fedeccaru_', 'created_at_utc': '2023-09-03 16:29:58+00:00', 'like_count': 3, 'sentiment': 'negative'}\n",
      "['merd']\n",
      "{'text': '@alessioromoloadinolfi era meglio se scrivi a cazzo dando pugni al telefono,usciva qualcosa di più coerente con il tuo stile di vita demmerda che fai ..o che hai', 'username': 'fsessa64', 'created_at_utc': '2023-06-29 13:57:38+00:00', 'like_count': 10, 'sentiment': 'negative'}\n",
      "['coglio']\n",
      "{'text': 'É sempre peggio altro che!!! Ragazzi giovani che muoiono per colpa di sto coglioni vecchi...morissero loro e le loro idee', 'username': 'cicciuzzo8934', 'created_at_utc': '2023-02-22 19:27:23+00:00', 'like_count': 0, 'sentiment': 'negative'}\n",
      "['black']\n",
      "{'text': '@wizoblack 😂😂😂😂😂😂', 'username': 'spaccafos76', 'created_at_utc': '2024-05-05 19:15:51+00:00', 'like_count': 0, 'sentiment': 'negative'}\n",
      "['nigg']\n",
      "{'text': 'Hey nigga, go back to the cotton field', 'username': 'va_akarsu', 'created_at_utc': '2024-05-06 07:25:06+00:00', 'like_count': 0, 'sentiment': 'negative'}\n",
      "['coglio']\n",
      "{'text': '@_manuel.rossato_ chissà che squadra tifa tu ahahah coglione', 'username': 'ismetkezi', 'created_at_utc': '2024-02-20 20:56:13+00:00', 'like_count': 0, 'sentiment': 'negative'}\n",
      "['schif']\n",
      "{'text': \"@agxuah tu sei imbarazzante, sportività ed educazione livello ultrà di calcio. Cambia sport se la civiltà tra tifoserie che ancora c'è nel volley ti fa schifo\", 'username': '19701965sd', 'created_at_utc': '2024-04-15 07:33:03+00:00', 'like_count': 2, 'sentiment': 'negative'}\n"
     ]
    }
   ],
   "source": [
    "keywords = ['merd', 'schif', 'troia', 'puttan', 'lurida', 'scimmi', 'negr', 'african', 'immigrat', 'ritardat', 'mongol', 'coglio', 'froc', 'lesbic', 'stronz',\n",
    "            'somaro', 'magreb', 'cines', 'zingar', 'ebre',\n",
    "            'suck', 'shit', 'slut', 'bitch', 'whore', 'nigg', 'monkey', 'hate', 'black', 'woman', 'women', 'retard']\n",
    "\n",
    "for item in data:\n",
    "    comments = item.get('comments', [])\n",
    "    for comment in comments:\n",
    "        sentiment = comment.get('sentiment')\n",
    "        if sentiment == 'negative':\n",
    "            item['offensive'] = 0\n",
    "            kwfound = []\n",
    "            for keyword in keywords:\n",
    "                if keyword in comment['text']:\n",
    "                    item['offensive'] = 1\n",
    "                    kwfound.append(keyword)\n",
    "            if item['offensive'] == 1:    \n",
    "                print(kwfound)\n",
    "                print(comment)\n",
    "                \n",
    "        \n",
    "        "
   ]
  }
 ],
 "metadata": {
  "kernelspec": {
   "display_name": "Python 3",
   "language": "python",
   "name": "python3"
  },
  "language_info": {
   "codemirror_mode": {
    "name": "ipython",
    "version": 3
   },
   "file_extension": ".py",
   "mimetype": "text/x-python",
   "name": "python",
   "nbconvert_exporter": "python",
   "pygments_lexer": "ipython3",
   "version": "3.9.7"
  }
 },
 "nbformat": 4,
 "nbformat_minor": 2
}
