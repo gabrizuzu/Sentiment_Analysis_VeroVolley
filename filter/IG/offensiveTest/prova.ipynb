{
 "cells": [
  {
   "cell_type": "code",
   "execution_count": 2,
   "metadata": {},
   "outputs": [],
   "source": [
    "import json\n",
    "\n",
    "with open('/Users/simon/Repos/VeroVolley-Group-2/official_statistics/facebook/verovolley/output_fb_verovolley.json', encoding='utf-8') as f:\n",
    "    data = json.load(f)"
   ]
  },
  {
   "cell_type": "code",
   "execution_count": 3,
   "metadata": {},
   "outputs": [
    {
     "name": "stdout",
     "output_type": "stream",
     "text": [
      "Sentiment negative:  107\n"
     ]
    }
   ],
   "source": [
    "count_neg = 0\n",
    "\n",
    "for item in data:\n",
    "    comments = item.get('comments', [])\n",
    "    for comment in comments:\n",
    "        if comment.get('sentiment') == 'negative':\n",
    "            count_neg += 1\n",
    "            \n",
    "print('Sentiment negative: ', count_neg)"
   ]
  },
  {
   "cell_type": "code",
   "execution_count": 32,
   "metadata": {},
   "outputs": [
    {
     "name": "stdout",
     "output_type": "stream",
     "text": [
      "> I’m gonna miss watching MONZA with Rampeee 🥺\n",
      "> Una bellissima squadra che ha giocato fino in fondo al massimo !! Peccato non trovarvi più la prossima stagione\n",
      "> Difficilissimi da sostituire..ci hanno fatto vivere un sogno fino alla fine..senza Leon il risultato sarebbe stato diverso..prossima stagione non ci saranno ahimè ma ..non ci sarà neanche Leon a Perugia\n",
      "> I'm gonna miss this team. 🥹❤️💙\n",
      "> Bellissima finale . Un peccato che Monza vedrà la squadra smembrata.\n",
      "> Anche questo anno il Conegliano vi ha surclassato\n",
      "> Ci avete regalato uno spettacolo infinito grazie di cuore a tutti ragazzi, non rivedervi tutti la prossima stagione mi spezza il cuore💔\n",
      "> Gara 5 e campionato buttati via. Non sono bastate le 20 battute sbagliate in gara 3, oggi secondo set perso dopo essere stati avanti di 5.\n",
      "> Peccato…..\n",
      "> Accidenti!!! Forza ragazzi!!!!!\n",
      "> E se dopo Milano anche Monza ………🍀🍀🍀🍀🍀😵‍💫\n",
      "> Maar nay phong độ ko tốt, chuyền 2 quá tệ, cả đội chỉ thấy Ran rất lăn xả, Eric cũng ok\n",
      "> È  durissima!!!!\n",
      "> Waw.... Un vero campione. Ma xchè se ne va ?\n",
      "> Memories remember 🫣\n",
      "> Macchéfatica!!!!\n",
      "> モンツア２対２LAN、残念。\n",
      "> Peccato! Primo set buttato alle ortiche - secondo set peggio del primo poi una partita all’altezza. Se giochiamo come il 3 e 4 set possiamo dire la ns anche in finale! Nom molliamo proprio adesso! Forza Monza\n",
      "> Purtroppo domenica dovranno entrare quei due a \"commentare\" la partita. Anche ieri, durante una finale, lo spettinato ha parlato di mercato in uscita! Qualcuno, non come a Trento, ha fischiato e lui sottolinea i fischi senza redarguirli. Sicuramente domenica cambieranno atteggiamento per dovere di ospitalità. Sono insopportabili!\n",
      "> Ho visto Monza stanca fisicamente ....\n",
      "> That set 1😭\n",
      "> Uffs...\n",
      "> È la vita vera... Purtroppo solo per quest'anno.\n",
      "> Una tifoseria penosa che ha fischiato tutti i servizi ed ha fischiato anche a fine partita mentre i nostri esultano! A Monza per due volte abbiamo applaudito la loro tifoseria per avere seguito la squadra e MAI UN FISCHIO è stato indirizzato a nessuno giocatore.\n",
      "> Peccato perderlo 😭\n",
      "> 😈😈😈\n",
      "> モンツア、惜しくも負け次回頑張ります、応援宜しくお願い!!\n",
      "> Lucchetta e l'altro personaggio inascoltabili. Grandi ragazzi\n",
      "> Way too\n",
      "> What a great performance from these guys. 👏🏻Only for them to be disbanded next season. ☹️\n",
      "> Grande merito a Coach Max Eccheli che con le 3 bande 3 ha alternato la rice a 4 con quella a 3 a seconda dei battitori trentini....Un gran peccato  pero'....Il prox. anno la squadra sara' smembrata...quindi tutto da rifare!!\n",
      "> Aeeeeeeee!!!!!\n",
      "> Partitona! Vittoria strameritata!\n",
      "> I hope this isn't the last game 🥹 so please, win this game MONZA 🥺\n",
      "> เเย่มาก\n",
      "> Raga ma seriamente la società ha confermato ancora Gaspari? AHAHAHAHAH\n",
      "> Sbagliato il titolo... Monza Scandicci 0 a 3. Quando vince è Milano Quando perde Monza !\n",
      "> Sconfitta pesante !!! Nemmeno un set in 2 partite\n",
      "> Anno fallimentare rispetto allo scorso almeno in campionato. Grande discontinuità di risultati e di gioco…molto meglio lo scorso anno quando giocavano a Monza. Sono state fatte scelte errate in tutti i sensi… andate a giocare a Milano pensando di spaccare il mondo. Andate e Rimanete. È un bene che non siete più di ‘Monza perché c’è da nascondersi.\n",
      "> Squadra allenata malissimo. Vista giocare stasera Novara, senza grandi nomi ma con un signor allenatore e uno spirito di squadra eccezionale. Folie unica meritevole di questa maglia. Impossibile che la società non si sia accorta che l'allenatore non fosse all'altezza. E prepariamoci che la finale Champions sarà un bagno di sangue.\n",
      "> Risultato giusto. Scandicci migliore in tutto. Allenatore pessimo, palleggio (e mi spiace tanto dirlo) discutibile e scontato, ricezione e difesa altalenante. Come ho già detto tanto potenziale ma pochissima resa. Ci sono cambiamenti da fare e si spera che la società se ne accorga.\n",
      "> L'allenatore ha dimostrato di non essere all'altezza, perché non solo ha rifatto gli stessi errori di gara 1, ed ha lasciato nuovamente in panchina malual che in battuta va meglio di tutte le altre peraltro  con la maglia di libero, mai utilizzata. Inoltre provvedeva a cambiare la squadra quando era in vantaggio addirittura di 4 punti per farsi raggiungere e superare da Scandicci. La pallavolo come negli altri sport chi è in vantaggio è ovvio che gioca sempre meglio e questo purtroppo è stato il risultato.\n",
      "> Basta vedere i time out, l'allenatore che parla e nessuno, o quasi, che ascolta...\n",
      "> Allenatore assurdo con alcune scelte. Malual poteva essere utile in battuta, Candi a muro almeno provarla e anche in battuta, Un bel bagno di umiltà, ho visto Novara battere Conegliano con un Bernardi allenatore eccezionale\n",
      "> Non capisco le scelte dell' allenatore e nemmeno quelle di Alessia. Maja le sta facendo scuola di distribuzione...come ho già detto più volte a questi livelli non si può non giocare con la seconda linea, siamo prevedibili. Bisogna rimettere dentro la francese se vogliamo una parvenza di ricezione e difesa. Tanto potenziale, poca resa.\n",
      "> Con questo allenatore non si va da nessuna parte, uno incapace di motivare le ragazze visto che loro sono ci sono proprio stasera, stanno giocando peggio che sabato, la Orro senve malissimo ogni pallone, ma come si fa fare il passaggio vicino alla rete, poi è normale che si sbaglia, Scandicci di stasera sembra Conegliano un schiaccia sassi, speriamo che si svegliano 💪💪\n",
      "> Stasera avete dimostrato che siete delle pippe\n",
      "> Purtroppo non è andata. Proviamo con la Champion.\n",
      "> Ewwiwa Scandicci...\n",
      "> Peccato che nelle prime 2 partite non ci fosse Maar, altrimenti Trento non avrebbe vinto facilmente. E che signor allenatore Eccheli\n",
      "> Bruttissima serata 😓😓\n",
      "> C'è poco da dire. Chi gioca male e sbaglia tanto, perde. Forza Vero Volley sempre.\n",
      "> Peccato è andata male ❤️\n",
      "> Nooooo 25 a 23 x Scandicci il primo set….forza ragazze!\n",
      "> Purtroppo Trento e più forte di noi e in più siamo stati deludenti\n",
      "> Purtroppo il primo set ci ha condizionato negativamente, la squadra si è spenta e ci hanno surclassato, speriamo in una riscossa mercoledì.\n",
      "> Non giochiamo più come ad inizio campionato...qualcosa non gira più come prima\n",
      "> Miss Sorriso, 31 punti, 4 muri, 2 ACE. Ottimo punteggio, mancano però quanti servizi a rete e fuori campo. Le partite si vincono con l'intera squadra, non solo la campionessa.... Una vittoria sofferta, se sperano di vincere contro il Conegliano con questo spirito, ne deve passare ancora tanta acqua sotto i ponti.\n",
      "> Facciamo sempre molta fatica ultimamente\n",
      "> Again Prandi 😓\n",
      "> Ero venuto per ben due volte per la partita ma era sold out lho vista in televisione ma i posti c'erano nonostante sia un tesserato fipav e un consigliere territoriale, peccato un grande spettacolo.\n",
      "> Sofferenza pura\n",
      "> Helena Myriam Alessia il resto da buttare partendo da egonu\n",
      "> Orro chấn thương rồi! 😭😭😭\n",
      "> Peccato.....😢\n",
      "> Purtroppo noi si gioca in sei più 6 cartonati nell'angolo....Eccheli non ha mai provato a fare un cambio che uno. Ancora un sacco di errori, troppi . E il libero.... 🤦‍♀️.  Vedremo in gara 5 se ci sarà il miracolo ( e per chi) 🤞🤞🤞\n",
      "> Vergogna\n",
      "> Mi sarebbe piaciuto tantissimo esserci ma sono al lavoro… 🥹\n",
      "> Non la vedrò 😭😭😭😭😭😭\n",
      "> Nonostante Una formula infelice andata 3/0 rientro devi vincere due set per qualificarsi o uno per il Gloden set. Morale della favola non ha senso vincere\n",
      "> Stavolta le dobbiamo stracciare.\n",
      "> Solo da Bergamo poteva partire una grande come te....ma Milano no ...mai..forza Conegliano\n",
      "> Pain goes straight to Lavarini 😹😹😹\n",
      "> Ohh mio Dio, che sofferenza!!\n",
      "> Ma perché fischiano ?!?! Mah\n",
      "> Tre errori di Alessia nel momento decisivo\n",
      "> 💣💣💣💣💣\n",
      "> Nn la vedo io ho now 😭😭😭\n",
      "> Il Jap è sparito dalla partita e la lube si è ripresa, che occasione sprecata\n",
      "> Peccato\n",
      "> Mất ngủ\n",
      "> Anche se si tratta solo di una distorsione, mi sembra difficile oltreché rischioso vederla in campo tra due giorni …￼🤞💪\n",
      "> Non sono tifoso né nel vero volley e né di tutte le altre squadre di serie A1 però io piango la Nazionale...Torna presto Alessia ❤️🙏 ci aspettano le olimpiadi\n",
      "> 👎👎👎👎👎👎👎👎👎👎👎👎👎👎👎👎👎👎👎👎👎👎👎👎👎👎👎👎👎👎\n",
      "> Get well soon orro 🥺🥺\n",
      "> brave al ritorno ancora più cattive\n",
      "> Grande Alessia,Datome antipatico e montato...\n",
      "> 💩💩💩💩💩💩💩💩💩💩💩💩💩💩💩💩💩💩💩💩💩💩💩💩💩💩💩💩💩💩💩💩💩💩💩💩💩💩💩💩💩💩💩💩💩💩💩💩💩💩💩💩💩💩💩💩💩💩💩💩💩💩💩💩💩💩🤣🤣🤣🤣🤣🤣🤣🤣🤣🤣🤣🤣🤣🤣🤣🤣🤣🤣🤣🤣🤣🤣🤣🤣🤣🤣🤣🤣🤣🤣\n",
      "> Mi fa piacere che Monza abbia vinto contro Civitanova, soprattutto per quel presuntuoso e arrogante del suo allenatore, e mi auguro che alla prossima li butti fuori dai playoff\n",
      "> Faccia de culo\n",
      "> Dai dai dai cattivi adesso ❤️\n",
      "> Stiamo giocando male e troppe volte si arriva al tie break.  Ad inizio campionato giocavamo meglio. Mi auguro di ritrovare ritmo e concentrazione per le partite internazionali che ci aspettano...visto che già abbiamo mancato obiettivo coppa Italia\n",
      "> กลัวแพ้มากๆตอนแรกเพราะมีแต่คนเก่งๆ\n",
      "> Myriam infortunata??\n",
      "> Peccato😢\n",
      "> Peccato\n",
      "> C'è ne sono tre che stonano\n",
      "> Hey don't use Egono and Sylla\n",
      "> Tutti che scrivono \"Brava\" alla Malual, ma nessuno si è accorto che, in difesa, in ben 5 set non è riuscita a salvare un pallone e che è l'unica della squadra a non aver fatto nemmeno un ace.\n",
      "> Eh.....niente....neanche stavolta!!!  La Paola dipendenza si fa sentire.\n",
      "> Peccato.  Oggi ero molto fiducioso .  Ma è ancora tanta la strada fare.\n",
      "> Peccato. Purtroppo sono convinto che la alzatrice non sia all'altezza e che nell'ultimo set sia stata in stato confusionale. Non è determinante e alla fine si affida solo ad Egonu, che non può fare miracoli. Un'occasione buttata via per interrompere il dominio di Conegliano.\n",
      "> Rimane amaro in bocca. Una marea di errori 1 e 5 set. Si poteva portare a casa massimo risultato. Vedo maggiori responsabilità nelle giocatrici piuttosto che nell'allenatore.\n",
      "> Vero Volley les falta una buena punta urgente, ese es el punto débil del equipo. El Vero Volley Milano NO TIENE UNA BUENA PUNTA.\n",
      "> Amém, mas ainda fico triste com a performance das ponteiras, erram muito passe, e quando o bloqueio adversário chega inteiro as ponteiras levam muito block. Que melhorem, caso contrário a Rainha Egonu sozinha não vai conseguir vencer o Conegliano.\n",
      "> Bravissime!👏👏💪Ma che sofferenza…😧 Ora di nuovo cariche a molla!💪💪\n",
      "> Mi dispiace Alessia Conegliano di un'altro pianeta?¿???\n"
     ]
    }
   ],
   "source": [
    "for item in data:\n",
    "    comments = item.get('comments', [])\n",
    "    for comment in comments:\n",
    "        if comment.get('sentiment') == 'negative':\n",
    "            body = comment.get('body')\n",
    "            print(\"> \" + body)\n"
   ]
  },
  {
   "cell_type": "code",
   "execution_count": 38,
   "metadata": {},
   "outputs": [
    {
     "name": "stdout",
     "output_type": "stream",
     "text": [
      "[scimmi]\n",
      "{'author': 'Pierguido Vottero Prina', 'body': 'La scimmia con il sorriso da somaro', 'likes_num': '0', 'date': '14 Mar', 'sentiment': 'neutral'}\n"
     ]
    }
   ],
   "source": [
    "keywords = ['merd', 'schif', 'troia', 'puttan', 'lurida', 'scimmi', 'negr', 'african', 'immigrat', 'ritardat', 'mongol', 'coglio', 'froc']\n",
    "\n",
    "for item in data:\n",
    "    comments = item.get('comments', [])\n",
    "    for comment in comments:\n",
    "        if comment.get('sentiment') == 'negative':\n",
    "            item['offensive'] = 0\n",
    "        for keyword in keywords:\n",
    "            if keyword in comment['body']:\n",
    "                # print(\"\\n\")\n",
    "                print(\"[\" + keyword + \"]\")\n",
    "                print(comment)\n",
    "                offensive = 1\n",
    "                break\n",
    "                \n",
    "        \n",
    "        "
   ]
  }
 ],
 "metadata": {
  "kernelspec": {
   "display_name": "Python 3",
   "language": "python",
   "name": "python3"
  },
  "language_info": {
   "codemirror_mode": {
    "name": "ipython",
    "version": 3
   },
   "file_extension": ".py",
   "mimetype": "text/x-python",
   "name": "python",
   "nbconvert_exporter": "python",
   "pygments_lexer": "ipython3",
   "version": "3.12.0"
  }
 },
 "nbformat": 4,
 "nbformat_minor": 2
}
