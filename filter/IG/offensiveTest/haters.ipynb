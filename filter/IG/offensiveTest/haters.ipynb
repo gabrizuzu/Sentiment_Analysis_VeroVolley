{
 "cells": [
  {
   "cell_type": "code",
   "execution_count": 167,
   "metadata": {},
   "outputs": [],
   "source": [
    "import json\n",
    "\n",
    "with open(\"/Users/simon/Repos/VeroVolley-Group-2/filter/IG/offensiveTest/sentiment_output.json\") as f:\n",
    "    data = json.load(f)"
   ]
  },
  {
   "cell_type": "code",
   "execution_count": 168,
   "metadata": {},
   "outputs": [],
   "source": [
    "class UserStruct:\n",
    "    def __init__(self, username, toxicity, severe_toxicity, identity_attack, insult):\n",
    "        self.username = username\n",
    "        self.toxic_comments = 1\n",
    "        self.toxicity = float(toxicity)\n",
    "        self.severe_toxicity = float(severe_toxicity)\n",
    "        self.identity_attack = float(identity_attack)\n",
    "        self.insult = float(insult)\n",
    "\n",
    "user_struct_list = []"
   ]
  },
  {
   "cell_type": "code",
   "execution_count": 169,
   "metadata": {},
   "outputs": [],
   "source": [
    "for item in data:\n",
    "    comments = item['comments']\n",
    "    for comment in comments:\n",
    "        if 'toxicity' in comment:\n",
    "            username = comment['username']\n",
    "            toxicity = comment['toxicity']\n",
    "            severe_toxicity = comment['severe_toxicity']\n",
    "            identity_attack = comment['identity_attack']\n",
    "            insult = comment['insult']\n",
    "            \n",
    "            # Search if the username is already in the list\n",
    "            username_exists = 0\n",
    "            for user_struct in user_struct_list:\n",
    "                if user_struct.username == username:\n",
    "                    username_exists = 1\n",
    "                    break\n",
    "\n",
    "            # Toxic user initialization\n",
    "            if username_exists == 0:\n",
    "                try:\n",
    "                    toxicity = float(toxicity)\n",
    "                except ValueError:\n",
    "                    print(\"Toxicity fail\")\n",
    "                user_struct = UserStruct(username, toxicity, severe_toxicity, identity_attack, insult)\n",
    "                user_struct_list.append(user_struct)\n",
    "                \n",
    "            # Sum toxicity to existing user\n",
    "            else:\n",
    "                user_struct.toxic_comments += 1\n",
    "                try:\n",
    "                    toxicity = float(toxicity)\n",
    "                    severe_toxicity = float(severe_toxicity)\n",
    "                    identity_attack = float(identity_attack)\n",
    "                    insult = float(insult)\n",
    "                except ValueError:\n",
    "                    print(\"Conversion fail\")\n",
    "                user_struct.toxicity += toxicity\n",
    "                user_struct.severe_toxicity += severe_toxicity\n",
    "                user_struct.identity_attack += identity_attack\n",
    "                user_struct.insult += insult\n",
    "                \n",
    "                \n",
    "                "
   ]
  },
  {
   "cell_type": "code",
   "execution_count": 170,
   "metadata": {},
   "outputs": [
    {
     "name": "stdout",
     "output_type": "stream",
     "text": [
      "User 'warrior_fede' made 5 toxic comments. Total toxicity: 0.280236478\n"
     ]
    }
   ],
   "source": [
    "for user_struct in user_struct_list:\n",
    "    if user_struct.username == 'warrior_fede':\n",
    "        print(f\"User '{user_struct.username}' made {user_struct.toxic_comments} toxic comments. Total toxicity: {user_struct.toxicity}\")\n",
    "# 0.280236478"
   ]
  },
  {
   "cell_type": "code",
   "execution_count": 171,
   "metadata": {},
   "outputs": [
    {
     "name": "stdout",
     "output_type": "stream",
     "text": [
      "User 'gio.rgio_royaume' made 10 toxic comments. Total toxicity: 4.396238872\n",
      "User 'robertofiorili' made 10 toxic comments. Total toxicity: 4.07394993\n",
      "User 'resul93_' made 8 toxic comments. Total toxicity: 2.50586415\n",
      "User 'fsessa64' made 3 toxic comments. Total toxicity: 2.14697543\n",
      "User 'el_patriciooo' made 2 toxic comments. Total toxicity: 1.53161549\n",
      "User 'gimmy52' made 3 toxic comments. Total toxicity: 1.4949134400000001\n",
      "User 'rinoraf' made 5 toxic comments. Total toxicity: 1.464839133\n",
      "User 'alesimotommyfrank' made 2 toxic comments. Total toxicity: 1.4445538\n",
      "User 'fmm_cap' made 2 toxic comments. Total toxicity: 1.4419539000000001\n",
      "User 'gall.agher69' made 2 toxic comments. Total toxicity: 1.38261634\n"
     ]
    }
   ],
   "source": [
    "toxicity_sorted_user_struct_list = sorted(user_struct_list, key=lambda x: x.toxicity, reverse=True)\n",
    "count = 0\n",
    "for user_struct in toxicity_sorted_user_struct_list:\n",
    "    print(f\"User '{user_struct.username}' made {user_struct.toxic_comments} toxic comments. Total toxicity: {user_struct.toxicity}\")\n",
    "    count += 1\n",
    "    if count == 10:\n",
    "        break"
   ]
  },
  {
   "cell_type": "code",
   "execution_count": 172,
   "metadata": {},
   "outputs": [
    {
     "name": "stdout",
     "output_type": "stream",
     "text": [
      "User 'fsessa64' made 3 toxic comments. Total severe toxicity: 1.1580813\n",
      "User 'gio.rgio_royaume' made 10 toxic comments. Total severe toxicity: 1.1352075457\n",
      "User 'robertofiorili' made 10 toxic comments. Total severe toxicity: 0.9598223243\n",
      "User 'gall.agher69' made 2 toxic comments. Total severe toxicity: 0.70484115\n",
      "User 'alesimotommyfrank' made 2 toxic comments. Total severe toxicity: 0.52328542\n",
      "User 'fabioteoo' made 1 toxic comments. Total severe toxicity: 0.50703704\n",
      "User 'el_patriciooo' made 2 toxic comments. Total severe toxicity: 0.50374498\n",
      "User 'zep_967' made 1 toxic comments. Total severe toxicity: 0.44787344\n",
      "User 'guido.p.pedrini' made 1 toxic comments. Total severe toxicity: 0.4379392\n",
      "User 'real_fox99' made 2 toxic comments. Total severe toxicity: 0.37784466\n"
     ]
    }
   ],
   "source": [
    "severe_toxicity_sorted_user_struct_list = sorted(user_struct_list, key=lambda x: x.severe_toxicity, reverse=True)\n",
    "count = 0\n",
    "for user_struct in severe_toxicity_sorted_user_struct_list:\n",
    "    print(f\"User '{user_struct.username}' made {user_struct.toxic_comments} toxic comments. Total severe toxicity: {user_struct.severe_toxicity}\")\n",
    "    count += 1\n",
    "    if count == 10:\n",
    "        break"
   ]
  },
  {
   "cell_type": "code",
   "execution_count": 173,
   "metadata": {},
   "outputs": [
    {
     "name": "stdout",
     "output_type": "stream",
     "text": [
      "User 'gio.rgio_royaume' made 10 toxic comments. Total identity attack: 1.214898951\n",
      "User 'robertofiorili' made 10 toxic comments. Total identity attack: 0.9841344869999998\n",
      "User 'gimmy52' made 3 toxic comments. Total identity attack: 0.96726035\n",
      "User 'gueyeleuz' made 1 toxic comments. Total identity attack: 0.7895903\n",
      "User 'va_akarsu' made 1 toxic comments. Total identity attack: 0.76079035\n",
      "User 'arserri' made 2 toxic comments. Total identity attack: 0.60537434\n",
      "User 'thejoeyjason' made 1 toxic comments. Total identity attack: 0.57957685\n",
      "User 'monicaoo3' made 1 toxic comments. Total identity attack: 0.54996765\n",
      "User 'yfiyfyfjygiyiyitstss585sd99ddo' made 2 toxic comments. Total identity attack: 0.5129903769999999\n",
      "User 'pippino64' made 1 toxic comments. Total identity attack: 0.5051609\n"
     ]
    }
   ],
   "source": [
    "identity_attack_sorted_user_struct_list = sorted(user_struct_list, key=lambda x: x.identity_attack, reverse=True)\n",
    "count = 0\n",
    "for user_struct in identity_attack_sorted_user_struct_list:\n",
    "    print(f\"User '{user_struct.username}' made {user_struct.toxic_comments} toxic comments. Total identity attack: {user_struct.identity_attack}\")\n",
    "    count += 1\n",
    "    if count == 10:\n",
    "        break"
   ]
  },
  {
   "cell_type": "code",
   "execution_count": 174,
   "metadata": {},
   "outputs": [
    {
     "name": "stdout",
     "output_type": "stream",
     "text": [
      "User 'gio.rgio_royaume' made 10 toxic comments. Total insult: 4.50498256\n",
      "User 'robertofiorili' made 10 toxic comments. Total insult: 3.88983432\n",
      "User 'fsessa64' made 3 toxic comments. Total insult: 1.95447317\n",
      "User 'resul93_' made 8 toxic comments. Total insult: 1.4677364499999999\n",
      "User 'alesimotommyfrank' made 2 toxic comments. Total insult: 1.4298316500000001\n",
      "User 'gimmy52' made 3 toxic comments. Total insult: 1.41430578\n",
      "User 'fmm_cap' made 2 toxic comments. Total insult: 1.3666537\n",
      "User 'andreascortesi' made 4 toxic comments. Total insult: 1.326474406\n",
      "User 'rinoraf' made 5 toxic comments. Total insult: 1.3018702409999998\n",
      "User 'el_patriciooo' made 2 toxic comments. Total insult: 1.2965582599999999\n"
     ]
    }
   ],
   "source": [
    "insult_sorted_user_struct_list = sorted(user_struct_list, key=lambda x: x.insult, reverse=True)\n",
    "count = 0\n",
    "for user_struct in insult_sorted_user_struct_list:\n",
    "    print(f\"User '{user_struct.username}' made {user_struct.toxic_comments} toxic comments. Total insult: {user_struct.insult}\")\n",
    "    count += 1\n",
    "    if count == 10:\n",
    "        break"
   ]
  }
 ],
 "metadata": {
  "kernelspec": {
   "display_name": "Python 3",
   "language": "python",
   "name": "python3"
  },
  "language_info": {
   "codemirror_mode": {
    "name": "ipython",
    "version": 3
   },
   "file_extension": ".py",
   "mimetype": "text/x-python",
   "name": "python",
   "nbconvert_exporter": "python",
   "pygments_lexer": "ipython3",
   "version": "3.12.0"
  }
 },
 "nbformat": 4,
 "nbformat_minor": 2
}
