{
 "cells": [
  {
   "cell_type": "code",
   "execution_count": 1,
   "metadata": {},
   "outputs": [
    {
     "ename": "FileNotFoundError",
     "evalue": "[Errno 2] No such file or directory: '/Users/simon/Repos/VeroVolley-Group-2/filter/IG/offensiveTest/sentiment_output.json'",
     "output_type": "error",
     "traceback": [
      "\u001b[0;31m---------------------------------------------------------------------------\u001b[0m",
      "\u001b[0;31mFileNotFoundError\u001b[0m                         Traceback (most recent call last)",
      "Cell \u001b[0;32mIn[1], line 3\u001b[0m\n\u001b[1;32m      1\u001b[0m \u001b[38;5;28;01mimport\u001b[39;00m \u001b[38;5;21;01mjson\u001b[39;00m\n\u001b[0;32m----> 3\u001b[0m \u001b[38;5;28;01mwith\u001b[39;00m \u001b[38;5;28;43mopen\u001b[39;49m\u001b[43m(\u001b[49m\u001b[38;5;124;43m\"\u001b[39;49m\u001b[38;5;124;43m/Users/simon/Repos/VeroVolley-Group-2/filter/IG/offensiveTest/sentiment_output.json\u001b[39;49m\u001b[38;5;124;43m\"\u001b[39;49m\u001b[43m)\u001b[49m \u001b[38;5;28;01mas\u001b[39;00m f:\n\u001b[1;32m      4\u001b[0m     data \u001b[38;5;241m=\u001b[39m json\u001b[38;5;241m.\u001b[39mload(f)\n",
      "File \u001b[0;32m~/.pyenv/versions/3.9.7/lib/python3.9/site-packages/IPython/core/interactiveshell.py:310\u001b[0m, in \u001b[0;36m_modified_open\u001b[0;34m(file, *args, **kwargs)\u001b[0m\n\u001b[1;32m    303\u001b[0m \u001b[38;5;28;01mif\u001b[39;00m file \u001b[38;5;129;01min\u001b[39;00m {\u001b[38;5;241m0\u001b[39m, \u001b[38;5;241m1\u001b[39m, \u001b[38;5;241m2\u001b[39m}:\n\u001b[1;32m    304\u001b[0m     \u001b[38;5;28;01mraise\u001b[39;00m \u001b[38;5;167;01mValueError\u001b[39;00m(\n\u001b[1;32m    305\u001b[0m         \u001b[38;5;124mf\u001b[39m\u001b[38;5;124m\"\u001b[39m\u001b[38;5;124mIPython won\u001b[39m\u001b[38;5;124m'\u001b[39m\u001b[38;5;124mt let you open fd=\u001b[39m\u001b[38;5;132;01m{\u001b[39;00mfile\u001b[38;5;132;01m}\u001b[39;00m\u001b[38;5;124m by default \u001b[39m\u001b[38;5;124m\"\u001b[39m\n\u001b[1;32m    306\u001b[0m         \u001b[38;5;124m\"\u001b[39m\u001b[38;5;124mas it is likely to crash IPython. If you know what you are doing, \u001b[39m\u001b[38;5;124m\"\u001b[39m\n\u001b[1;32m    307\u001b[0m         \u001b[38;5;124m\"\u001b[39m\u001b[38;5;124myou can use builtins\u001b[39m\u001b[38;5;124m'\u001b[39m\u001b[38;5;124m open.\u001b[39m\u001b[38;5;124m\"\u001b[39m\n\u001b[1;32m    308\u001b[0m     )\n\u001b[0;32m--> 310\u001b[0m \u001b[38;5;28;01mreturn\u001b[39;00m \u001b[43mio_open\u001b[49m\u001b[43m(\u001b[49m\u001b[43mfile\u001b[49m\u001b[43m,\u001b[49m\u001b[43m \u001b[49m\u001b[38;5;241;43m*\u001b[39;49m\u001b[43margs\u001b[49m\u001b[43m,\u001b[49m\u001b[43m \u001b[49m\u001b[38;5;241;43m*\u001b[39;49m\u001b[38;5;241;43m*\u001b[39;49m\u001b[43mkwargs\u001b[49m\u001b[43m)\u001b[49m\n",
      "\u001b[0;31mFileNotFoundError\u001b[0m: [Errno 2] No such file or directory: '/Users/simon/Repos/VeroVolley-Group-2/filter/IG/offensiveTest/sentiment_output.json'"
     ]
    }
   ],
   "source": [
    "import json\n",
    "\n",
    "with open(\"/Users/simon/Repos/VeroVolley-Group-2/filter/IG/offensiveTest/sentiment_output.json\") as f:\n",
    "    data = json.load(f)"
   ]
  },
  {
   "cell_type": "code",
   "execution_count": 168,
   "metadata": {},
   "outputs": [],
   "source": [
    "class UserStruct:\n",
    "    def __init__(self, username, toxicity, severe_toxicity, identity_attack, insult):\n",
    "        self.username = username\n",
    "        self.toxic_comments = 1\n",
    "        self.toxicity = float(toxicity)\n",
    "        self.severe_toxicity = float(severe_toxicity)\n",
    "        self.identity_attack = float(identity_attack)\n",
    "        self.insult = float(insult)\n",
    "\n",
    "user_struct_list = []"
   ]
  },
  {
   "cell_type": "code",
   "execution_count": 169,
   "metadata": {},
   "outputs": [],
   "source": [
    "for item in data:\n",
    "    comments = item['comments']\n",
    "    for comment in comments:\n",
    "        if 'toxicity' in comment:\n",
    "            username = comment['username']\n",
    "            toxicity = comment['toxicity']\n",
    "            severe_toxicity = comment['severe_toxicity']\n",
    "            identity_attack = comment['identity_attack']\n",
    "            insult = comment['insult']\n",
    "            \n",
    "            # Search if the username is already in the list\n",
    "            username_exists = 0\n",
    "            for user_struct in user_struct_list:\n",
    "                if user_struct.username == username:\n",
    "                    username_exists = 1\n",
    "                    break\n",
    "\n",
    "            # Toxic user initialization\n",
    "            if username_exists == 0:\n",
    "                try:\n",
    "                    toxicity = float(toxicity)\n",
    "                except ValueError:\n",
    "                    print(\"Toxicity fail\")\n",
    "                user_struct = UserStruct(username, toxicity, severe_toxicity, identity_attack, insult)\n",
    "                user_struct_list.append(user_struct)\n",
    "                \n",
    "            # Sum toxicity to existing user\n",
    "            else:\n",
    "                user_struct.toxic_comments += 1\n",
    "                try:\n",
    "                    toxicity = float(toxicity)\n",
    "                    severe_toxicity = float(severe_toxicity)\n",
    "                    identity_attack = float(identity_attack)\n",
    "                    insult = float(insult)\n",
    "                except ValueError:\n",
    "                    print(\"Conversion fail\")\n",
    "                user_struct.toxicity += toxicity\n",
    "                user_struct.severe_toxicity += severe_toxicity\n",
    "                user_struct.identity_attack += identity_attack\n",
    "                user_struct.insult += insult\n",
    "                \n",
    "                \n",
    "                "
   ]
  },
  {
   "cell_type": "code",
   "execution_count": 170,
   "metadata": {},
   "outputs": [
    {
     "name": "stdout",
     "output_type": "stream",
     "text": [
      "User 'warrior_fede' made 5 toxic comments. Total toxicity: 0.280236478\n"
     ]
    }
   ],
   "source": [
    "for user_struct in user_struct_list:\n",
    "    if user_struct.username == 'warrior_fede':\n",
    "        print(f\"User '{user_struct.username}' made {user_struct.toxic_comments} toxic comments. Total toxicity: {user_struct.toxicity}\")\n",
    "# 0.280236478"
   ]
  },
  {
   "cell_type": "code",
   "execution_count": 171,
   "metadata": {},
   "outputs": [
    {
     "name": "stdout",
     "output_type": "stream",
     "text": [
      "User 'gio.rgio_royaume' made 10 toxic comments. Total toxicity: 4.396238872\n",
      "User 'robertofiorili' made 10 toxic comments. Total toxicity: 4.07394993\n",
      "User 'resul93_' made 8 toxic comments. Total toxicity: 2.50586415\n",
      "User 'fsessa64' made 3 toxic comments. Total toxicity: 2.14697543\n",
      "User 'el_patriciooo' made 2 toxic comments. Total toxicity: 1.53161549\n",
      "User 'gimmy52' made 3 toxic comments. Total toxicity: 1.4949134400000001\n",
      "User 'rinoraf' made 5 toxic comments. Total toxicity: 1.464839133\n",
      "User 'alesimotommyfrank' made 2 toxic comments. Total toxicity: 1.4445538\n",
      "User 'fmm_cap' made 2 toxic comments. Total toxicity: 1.4419539000000001\n",
      "User 'gall.agher69' made 2 toxic comments. Total toxicity: 1.38261634\n"
     ]
    }
   ],
   "source": [
    "toxicity_sorted_user_struct_list = sorted(user_struct_list, key=lambda x: x.toxicity, reverse=True)\n",
    "count = 0\n",
    "for user_struct in toxicity_sorted_user_struct_list:\n",
    "    print(f\"User '{user_struct.username}' made {user_struct.toxic_comments} toxic comments. Total toxicity: {user_struct.toxicity}\")\n",
    "    count += 1\n",
    "    if count == 10:\n",
    "        break"
   ]
  },
  {
   "cell_type": "code",
   "execution_count": 172,
   "metadata": {},
   "outputs": [
    {
     "name": "stdout",
     "output_type": "stream",
     "text": [
      "User 'fsessa64' made 3 toxic comments. Total severe toxicity: 1.1580813\n",
      "User 'gio.rgio_royaume' made 10 toxic comments. Total severe toxicity: 1.1352075457\n",
      "User 'robertofiorili' made 10 toxic comments. Total severe toxicity: 0.9598223243\n",
      "User 'gall.agher69' made 2 toxic comments. Total severe toxicity: 0.70484115\n",
      "User 'alesimotommyfrank' made 2 toxic comments. Total severe toxicity: 0.52328542\n",
      "User 'fabioteoo' made 1 toxic comments. Total severe toxicity: 0.50703704\n",
      "User 'el_patriciooo' made 2 toxic comments. Total severe toxicity: 0.50374498\n",
      "User 'zep_967' made 1 toxic comments. Total severe toxicity: 0.44787344\n",
      "User 'guido.p.pedrini' made 1 toxic comments. Total severe toxicity: 0.4379392\n",
      "User 'real_fox99' made 2 toxic comments. Total severe toxicity: 0.37784466\n"
     ]
    }
   ],
   "source": [
    "severe_toxicity_sorted_user_struct_list = sorted(user_struct_list, key=lambda x: x.severe_toxicity, reverse=True)\n",
    "count = 0\n",
    "for user_struct in severe_toxicity_sorted_user_struct_list:\n",
    "    print(f\"User '{user_struct.username}' made {user_struct.toxic_comments} toxic comments. Total severe toxicity: {user_struct.severe_toxicity}\")\n",
    "    count += 1\n",
    "    if count == 10:\n",
    "        break"
   ]
  },
  {
   "cell_type": "code",
   "execution_count": 173,
   "metadata": {},
   "outputs": [
    {
     "name": "stdout",
     "output_type": "stream",
     "text": [
      "User 'gio.rgio_royaume' made 10 toxic comments. Total identity attack: 1.214898951\n",
      "User 'robertofiorili' made 10 toxic comments. Total identity attack: 0.9841344869999998\n",
      "User 'gimmy52' made 3 toxic comments. Total identity attack: 0.96726035\n",
      "User 'gueyeleuz' made 1 toxic comments. Total identity attack: 0.7895903\n",
      "User 'va_akarsu' made 1 toxic comments. Total identity attack: 0.76079035\n",
      "User 'arserri' made 2 toxic comments. Total identity attack: 0.60537434\n",
      "User 'thejoeyjason' made 1 toxic comments. Total identity attack: 0.57957685\n",
      "User 'monicaoo3' made 1 toxic comments. Total identity attack: 0.54996765\n",
      "User 'yfiyfyfjygiyiyitstss585sd99ddo' made 2 toxic comments. Total identity attack: 0.5129903769999999\n",
      "User 'pippino64' made 1 toxic comments. Total identity attack: 0.5051609\n"
     ]
    }
   ],
   "source": [
    "identity_attack_sorted_user_struct_list = sorted(user_struct_list, key=lambda x: x.identity_attack, reverse=True)\n",
    "count = 0\n",
    "for user_struct in identity_attack_sorted_user_struct_list:\n",
    "    print(f\"User '{user_struct.username}' made {user_struct.toxic_comments} toxic comments. Total identity attack: {user_struct.identity_attack}\")\n",
    "    count += 1\n",
    "    if count == 10:\n",
    "        break"
   ]
  },
  {
   "cell_type": "code",
   "execution_count": 174,
   "metadata": {},
   "outputs": [
    {
     "name": "stdout",
     "output_type": "stream",
     "text": [
      "User 'gio.rgio_royaume' made 10 toxic comments. Total insult: 4.50498256\n",
      "User 'robertofiorili' made 10 toxic comments. Total insult: 3.88983432\n",
      "User 'fsessa64' made 3 toxic comments. Total insult: 1.95447317\n",
      "User 'resul93_' made 8 toxic comments. Total insult: 1.4677364499999999\n",
      "User 'alesimotommyfrank' made 2 toxic comments. Total insult: 1.4298316500000001\n",
      "User 'gimmy52' made 3 toxic comments. Total insult: 1.41430578\n",
      "User 'fmm_cap' made 2 toxic comments. Total insult: 1.3666537\n",
      "User 'andreascortesi' made 4 toxic comments. Total insult: 1.326474406\n",
      "User 'rinoraf' made 5 toxic comments. Total insult: 1.3018702409999998\n",
      "User 'el_patriciooo' made 2 toxic comments. Total insult: 1.2965582599999999\n"
     ]
    }
   ],
   "source": [
    "insult_sorted_user_struct_list = sorted(user_struct_list, key=lambda x: x.insult, reverse=True)\n",
    "count = 0\n",
    "for user_struct in insult_sorted_user_struct_list:\n",
    "    print(f\"User '{user_struct.username}' made {user_struct.toxic_comments} toxic comments. Total insult: {user_struct.insult}\")\n",
    "    count += 1\n",
    "    if count == 10:\n",
    "        break"
   ]
  }
 ],
 "metadata": {
  "kernelspec": {
   "display_name": "Python 3",
   "language": "python",
   "name": "python3"
  },
  "language_info": {
   "codemirror_mode": {
    "name": "ipython",
    "version": 3
   },
   "file_extension": ".py",
   "mimetype": "text/x-python",
   "name": "python",
   "nbconvert_exporter": "python",
   "pygments_lexer": "ipython3",
   "version": "3.9.7"
  }
 },
 "nbformat": 4,
 "nbformat_minor": 2
}
